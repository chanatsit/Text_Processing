{
 "cells": [
  {
   "cell_type": "markdown",
   "metadata": {},
   "source": [
    "###  นำ Libraries ที่จำเป็นต้องนำมาใช้ทั้งหมด"
   ]
  },
  {
   "cell_type": "code",
   "execution_count": 590,
   "metadata": {},
   "outputs": [],
   "source": [
    "import pandas as pd\n",
    "import re\n",
    "from sklearn.model_selection import train_test_split\n",
    "from sklearn.feature_extraction.text import CountVectorizer\n",
    "import matplotlib.pyplot as plt\n",
    "from sklearn.preprocessing import LabelEncoder\n",
    "from pythainlp import word_tokenize\n",
    "from sklearn.preprocessing import normalize"
   ]
  },
  {
   "cell_type": "markdown",
   "metadata": {},
   "source": [
    "### นำข้อมูลจาก Github "
   ]
  },
  {
   "cell_type": "code",
   "execution_count": 591,
   "metadata": {},
   "outputs": [],
   "source": [
    "data= pd.read_csv('https://github.com/chanatsit/AI_UTCC/raw/main/forecast%20-%20forecast.csv', header=None)"
   ]
  },
  {
   "cell_type": "markdown",
   "metadata": {},
   "source": [
    "###  อ่านข้อมูลจากไฟล์ Excel และแปลงข้อมูลไปเป็น Dataframe"
   ]
  },
  {
   "cell_type": "code",
   "execution_count": 592,
   "metadata": {},
   "outputs": [],
   "source": [
    "nrow = len(data.axes[0])\n",
    "ncol = len(data.axes[1])"
   ]
  },
  {
   "cell_type": "code",
   "execution_count": 593,
   "metadata": {},
   "outputs": [],
   "source": [
    "mylist = []"
   ]
  },
  {
   "cell_type": "markdown",
   "metadata": {},
   "source": [
    "### อ่านข้อมูลจาก cell ทุก cell และต่อกัน list"
   ]
  },
  {
   "cell_type": "code",
   "execution_count": 594,
   "metadata": {},
   "outputs": [],
   "source": [
    "for j in range(ncol):\n",
    "    for i in range(nrow):\n",
    "        mylst = data[j][i]\n",
    "        mylist.append(mylst)"
   ]
  },
  {
   "cell_type": "markdown",
   "metadata": {},
   "source": [
    "### อ่านข้อมูลใน mylist ที่ไม่เป็น null"
   ]
  },
  {
   "cell_type": "code",
   "execution_count": 595,
   "metadata": {},
   "outputs": [],
   "source": [
    "df = [x for x in mylist if pd.notnull(x)]"
   ]
  },
  {
   "cell_type": "code",
   "execution_count": 596,
   "metadata": {},
   "outputs": [],
   "source": [
    "df = pd.DataFrame(df)"
   ]
  },
  {
   "cell_type": "code",
   "execution_count": 597,
   "metadata": {},
   "outputs": [
    {
     "data": {
      "text/html": [
       "<div>\n",
       "<style scoped>\n",
       "    .dataframe tbody tr th:only-of-type {\n",
       "        vertical-align: middle;\n",
       "    }\n",
       "\n",
       "    .dataframe tbody tr th {\n",
       "        vertical-align: top;\n",
       "    }\n",
       "\n",
       "    .dataframe thead th {\n",
       "        text-align: right;\n",
       "    }\n",
       "</style>\n",
       "<table border=\"1\" class=\"dataframe\">\n",
       "  <thead>\n",
       "    <tr style=\"text-align: right;\">\n",
       "      <th></th>\n",
       "      <th>0</th>\n",
       "    </tr>\n",
       "  </thead>\n",
       "  <tbody>\n",
       "    <tr>\n",
       "      <th>0</th>\n",
       "      <td>Energy security must be addressed to ensure co...</td>\n",
       "    </tr>\n",
       "    <tr>\n",
       "      <th>1</th>\n",
       "      <td>It is the largest deal to date for Zynga</td>\n",
       "    </tr>\n",
       "    <tr>\n",
       "      <th>2</th>\n",
       "      <td>The Federal Reserve released its CCAR 2018 res...</td>\n",
       "    </tr>\n",
       "  </tbody>\n",
       "</table>\n",
       "</div>"
      ],
      "text/plain": [
       "                                                   0\n",
       "0  Energy security must be addressed to ensure co...\n",
       "1           It is the largest deal to date for Zynga\n",
       "2  The Federal Reserve released its CCAR 2018 res..."
      ]
     },
     "execution_count": 597,
     "metadata": {},
     "output_type": "execute_result"
    }
   ],
   "source": [
    "df.head(3)"
   ]
  },
  {
   "cell_type": "markdown",
   "metadata": {},
   "source": [
    "### Split ออกเป็น 2 column โดยพิจารณาเครื่องหมาย \" | \""
   ]
  },
  {
   "cell_type": "code",
   "execution_count": 598,
   "metadata": {},
   "outputs": [],
   "source": [
    "df[1] = df[0].str.split('|').str[1]"
   ]
  },
  {
   "cell_type": "code",
   "execution_count": 599,
   "metadata": {},
   "outputs": [],
   "source": [
    "df.dropna(subset = [1], inplace=True)"
   ]
  },
  {
   "cell_type": "markdown",
   "metadata": {},
   "source": [
    "### เปลี่ยนชื่อ column"
   ]
  },
  {
   "cell_type": "code",
   "execution_count": 600,
   "metadata": {},
   "outputs": [],
   "source": [
    "df.rename(columns={0:'Text', 1:'Label'}, inplace=True)"
   ]
  },
  {
   "cell_type": "markdown",
   "metadata": {},
   "source": [
    "### ดึง column ออกมาเป็น list และตัดคำ Forecast และ Non-Forecast ออกจาก list"
   ]
  },
  {
   "cell_type": "code",
   "execution_count": 601,
   "metadata": {},
   "outputs": [],
   "source": [
    "Text_col = list(df['Text'])"
   ]
  },
  {
   "cell_type": "code",
   "execution_count": 602,
   "metadata": {},
   "outputs": [],
   "source": [
    "Text_col =[s.replace('|Forecast','').replace('|Non-Forecast','') for s in Text_col]"
   ]
  },
  {
   "cell_type": "code",
   "execution_count": 603,
   "metadata": {},
   "outputs": [],
   "source": [
    "df['Text'] = Text_col"
   ]
  },
  {
   "cell_type": "code",
   "execution_count": 604,
   "metadata": {},
   "outputs": [],
   "source": [
    "df = df.reset_index(drop=True)"
   ]
  },
  {
   "cell_type": "code",
   "execution_count": 605,
   "metadata": {},
   "outputs": [],
   "source": [
    "df_forecast = df.loc[df['Label'] == 'Forecast']\n",
    "df_non_forecast = df.loc[df['Label'] == 'Non-Forecast']"
   ]
  },
  {
   "cell_type": "code",
   "execution_count": 606,
   "metadata": {},
   "outputs": [],
   "source": [
    "num_text = len(df_forecast)\n",
    "num_label = len(df_non_forecast)"
   ]
  },
  {
   "cell_type": "code",
   "execution_count": 607,
   "metadata": {},
   "outputs": [
    {
     "data": {
      "text/plain": [
       "500"
      ]
     },
     "execution_count": 607,
     "metadata": {},
     "output_type": "execute_result"
    }
   ],
   "source": [
    "num_text"
   ]
  },
  {
   "cell_type": "code",
   "execution_count": 608,
   "metadata": {},
   "outputs": [
    {
     "data": {
      "text/plain": [
       "499"
      ]
     },
     "execution_count": 608,
     "metadata": {},
     "output_type": "execute_result"
    }
   ],
   "source": [
    "num_label"
   ]
  },
  {
   "cell_type": "code",
   "execution_count": 609,
   "metadata": {},
   "outputs": [
    {
     "data": {
      "image/png": "[encoded data removed]",
      "text/plain": [
       "<Figure size 576x396 with 1 Axes>"
      ]
     },
     "metadata": {},
     "output_type": "display_data"
    }
   ],
   "source": [
    "df.Label.value_counts().plot.bar();"
   ]
  },
  {
   "cell_type": "markdown",
   "metadata": {},
   "source": [
    "### แปลง Label ให้เป็น Encoder Catagorical "
   ]
  },
  {
   "cell_type": "code",
   "execution_count": 610,
   "metadata": {},
   "outputs": [],
   "source": [
    "le = LabelEncoder()"
   ]
  },
  {
   "cell_type": "code",
   "execution_count": 611,
   "metadata": {},
   "outputs": [],
   "source": [
    "df['Label'] = le.fit_transform(df['Label'])"
   ]
  },
  {
   "cell_type": "code",
   "execution_count": 612,
   "metadata": {},
   "outputs": [
    {
     "data": {
      "text/html": [
       "<div>\n",
       "<style scoped>\n",
       "    .dataframe tbody tr th:only-of-type {\n",
       "        vertical-align: middle;\n",
       "    }\n",
       "\n",
       "    .dataframe tbody tr th {\n",
       "        vertical-align: top;\n",
       "    }\n",
       "\n",
       "    .dataframe thead th {\n",
       "        text-align: right;\n",
       "    }\n",
       "</style>\n",
       "<table border=\"1\" class=\"dataframe\">\n",
       "  <thead>\n",
       "    <tr style=\"text-align: right;\">\n",
       "      <th></th>\n",
       "      <th>Text</th>\n",
       "      <th>Label</th>\n",
       "    </tr>\n",
       "  </thead>\n",
       "  <tbody>\n",
       "    <tr>\n",
       "      <th>0</th>\n",
       "      <td>Energy security must be addressed to ensure co...</td>\n",
       "      <td>0</td>\n",
       "    </tr>\n",
       "    <tr>\n",
       "      <th>1</th>\n",
       "      <td>Technology spending is forecast to grow 4.1 pe...</td>\n",
       "      <td>0</td>\n",
       "    </tr>\n",
       "    <tr>\n",
       "      <th>2</th>\n",
       "      <td>Australias recent operational experiences and ...</td>\n",
       "      <td>0</td>\n",
       "    </tr>\n",
       "    <tr>\n",
       "      <th>3</th>\n",
       "      <td>Common sense for anybody living within a budget.</td>\n",
       "      <td>1</td>\n",
       "    </tr>\n",
       "    <tr>\n",
       "      <th>4</th>\n",
       "      <td>Drone use in agriculture could be as common as...</td>\n",
       "      <td>0</td>\n",
       "    </tr>\n",
       "    <tr>\n",
       "      <th>...</th>\n",
       "      <td>...</td>\n",
       "      <td>...</td>\n",
       "    </tr>\n",
       "    <tr>\n",
       "      <th>994</th>\n",
       "      <td>the research team writes in the journal Injury...</td>\n",
       "      <td>1</td>\n",
       "    </tr>\n",
       "    <tr>\n",
       "      <th>995</th>\n",
       "      <td>traction management system information and whe...</td>\n",
       "      <td>1</td>\n",
       "    </tr>\n",
       "    <tr>\n",
       "      <th>996</th>\n",
       "      <td>in order to spot violent or extremist material...</td>\n",
       "      <td>0</td>\n",
       "    </tr>\n",
       "    <tr>\n",
       "      <th>997</th>\n",
       "      <td>his backing was important political symbolism.</td>\n",
       "      <td>1</td>\n",
       "    </tr>\n",
       "    <tr>\n",
       "      <th>998</th>\n",
       "      <td>etc.</td>\n",
       "      <td>1</td>\n",
       "    </tr>\n",
       "  </tbody>\n",
       "</table>\n",
       "<p>999 rows × 2 columns</p>\n",
       "</div>"
      ],
      "text/plain": [
       "                                                  Text  Label\n",
       "0    Energy security must be addressed to ensure co...      0\n",
       "1    Technology spending is forecast to grow 4.1 pe...      0\n",
       "2    Australias recent operational experiences and ...      0\n",
       "3     Common sense for anybody living within a budget.      1\n",
       "4    Drone use in agriculture could be as common as...      0\n",
       "..                                                 ...    ...\n",
       "994  the research team writes in the journal Injury...      1\n",
       "995  traction management system information and whe...      1\n",
       "996  in order to spot violent or extremist material...      0\n",
       "997     his backing was important political symbolism.      1\n",
       "998                                               etc.      1\n",
       "\n",
       "[999 rows x 2 columns]"
      ]
     },
     "execution_count": 612,
     "metadata": {},
     "output_type": "execute_result"
    }
   ],
   "source": [
    "df"
   ]
  },
  {
   "cell_type": "markdown",
   "metadata": {},
   "source": [
    "### Split dataset to train set and test set"
   ]
  },
  {
   "cell_type": "code",
   "execution_count": 613,
   "metadata": {},
   "outputs": [],
   "source": [
    "from sklearn.model_selection import train_test_split"
   ]
  },
  {
   "cell_type": "code",
   "execution_count": 614,
   "metadata": {},
   "outputs": [],
   "source": [
    "train_data, test_data, train_label, test_label= train_test_split(text, label, test_size=0.20, random_state=2020)"
   ]
  },
  {
   "cell_type": "markdown",
   "metadata": {},
   "source": [
    "### Feature Extraction "
   ]
  },
  {
   "cell_type": "code",
   "execution_count": 615,
   "metadata": {},
   "outputs": [],
   "source": [
    " # สร้าง Function ในการตัดคำ และ ทำความสะอาดข้อมูล\n",
    "def get_th_token(text):\n",
    "    text = text.lower() \n",
    "    text = text.replace('\\n',' ')\n",
    "    token = word_tokenize(text, engine=\"newmm\")\n",
    "    return token"
   ]
  },
  {
   "cell_type": "code",
   "execution_count": 616,
   "metadata": {},
   "outputs": [],
   "source": [
    "vectorizer = CountVectorizer(tokenizer=get_th_token, ngram_range=(1,2))"
   ]
  },
  {
   "cell_type": "code",
   "execution_count": 617,
   "metadata": {},
   "outputs": [
    {
     "name": "stderr",
     "output_type": "stream",
     "text": [
      "c:\\users\\eak\\appdata\\local\\programs\\python\\python38\\lib\\site-packages\\sklearn\\feature_extraction\\text.py:484: UserWarning: The parameter 'token_pattern' will not be used since 'tokenizer' is not None'\n",
      "  warnings.warn(\"The parameter 'token_pattern' will not be used\"\n"
     ]
    },
    {
     "data": {
      "text/plain": [
       "CountVectorizer(ngram_range=(1, 2),\n",
       "                tokenizer=<function get_th_token at 0x000001B4F0C698B0>)"
      ]
     },
     "execution_count": 617,
     "metadata": {},
     "output_type": "execute_result"
    }
   ],
   "source": [
    "vectorizer.fit(train_data)"
   ]
  },
  {
   "cell_type": "code",
   "execution_count": 618,
   "metadata": {},
   "outputs": [],
   "source": [
    "train_feature = vectorizer.transform(train_data)\n",
    "test_feature = vectorizer.transform(test_data)"
   ]
  },
  {
   "cell_type": "code",
   "execution_count": 619,
   "metadata": {},
   "outputs": [
    {
     "data": {
      "text/plain": [
       "<799x11216 sparse matrix of type '<class 'numpy.int64'>'\n",
       "\twith 35105 stored elements in Compressed Sparse Row format>"
      ]
     },
     "execution_count": 619,
     "metadata": {},
     "output_type": "execute_result"
    }
   ],
   "source": [
    "train_feature"
   ]
  },
  {
   "cell_type": "code",
   "execution_count": 620,
   "metadata": {},
   "outputs": [
    {
     "data": {
      "text/plain": [
       "(799, 11216)"
      ]
     },
     "execution_count": 620,
     "metadata": {},
     "output_type": "execute_result"
    }
   ],
   "source": [
    "train_feature.shape"
   ]
  },
  {
   "cell_type": "code",
   "execution_count": 621,
   "metadata": {},
   "outputs": [
    {
     "data": {
      "text/plain": [
       "array([[13,  0,  0, ...,  0,  0,  0],\n",
       "       [18,  0,  0, ...,  0,  0,  0],\n",
       "       [16,  0,  0, ...,  0,  0,  0],\n",
       "       ...,\n",
       "       [11,  0,  0, ...,  0,  0,  0],\n",
       "       [ 8,  0,  0, ...,  0,  0,  0],\n",
       "       [ 7,  0,  0, ...,  0,  0,  0]], dtype=int64)"
      ]
     },
     "execution_count": 621,
     "metadata": {},
     "output_type": "execute_result"
    }
   ],
   "source": [
    "train_feature.toarray()"
   ]
  },
  {
   "cell_type": "code",
   "execution_count": 622,
   "metadata": {},
   "outputs": [
    {
     "data": {
      "text/plain": [
       "(200, 11216)"
      ]
     },
     "execution_count": 622,
     "metadata": {},
     "output_type": "execute_result"
    }
   ],
   "source": [
    "test_feature.shape"
   ]
  },
  {
   "cell_type": "code",
   "execution_count": 623,
   "metadata": {},
   "outputs": [
    {
     "data": {
      "text/plain": [
       "<200x11216 sparse matrix of type '<class 'numpy.int64'>'\n",
       "\twith 7362 stored elements in Compressed Sparse Row format>"
      ]
     },
     "execution_count": 623,
     "metadata": {},
     "output_type": "execute_result"
    }
   ],
   "source": [
    "test_feature"
   ]
  },
  {
   "cell_type": "code",
   "execution_count": 624,
   "metadata": {},
   "outputs": [
    {
     "data": {
      "text/plain": [
       "array([[18,  0,  0, ...,  0,  0,  0],\n",
       "       [21,  0,  0, ...,  0,  0,  0],\n",
       "       [ 7,  0,  0, ...,  0,  0,  0],\n",
       "       ...,\n",
       "       [23,  0,  0, ...,  0,  1,  1],\n",
       "       [15,  0,  0, ...,  0,  0,  0],\n",
       "       [19,  0,  0, ...,  0,  0,  0]], dtype=int64)"
      ]
     },
     "execution_count": 624,
     "metadata": {},
     "output_type": "execute_result"
    }
   ],
   "source": [
    "test_feature.toarray()"
   ]
  },
  {
   "cell_type": "code",
   "execution_count": 625,
   "metadata": {},
   "outputs": [],
   "source": [
    "train_feature_normalize = normalize(train_feature)\n",
    "test_feature_normalize = normalize(test_feature)"
   ]
  },
  {
   "cell_type": "code",
   "execution_count": 626,
   "metadata": {},
   "outputs": [
    {
     "data": {
      "text/plain": [
       "<799x11216 sparse matrix of type '<class 'numpy.float64'>'\n",
       "\twith 35105 stored elements in Compressed Sparse Row format>"
      ]
     },
     "execution_count": 626,
     "metadata": {},
     "output_type": "execute_result"
    }
   ],
   "source": [
    "train_feature_normalize"
   ]
  },
  {
   "cell_type": "code",
   "execution_count": 627,
   "metadata": {},
   "outputs": [
    {
     "data": {
      "text/plain": [
       "(799, 11216)"
      ]
     },
     "execution_count": 627,
     "metadata": {},
     "output_type": "execute_result"
    }
   ],
   "source": [
    "train_feature_normalize.shape\n",
    "# โดยที่ Shape ของ Data ยังคงเท่ากันกับ train_feature ที่ยังไม่ทำการ Normalize"
   ]
  },
  {
   "cell_type": "code",
   "execution_count": 628,
   "metadata": {},
   "outputs": [
    {
     "data": {
      "text/plain": [
       "array([[0.8824975 , 0.        , 0.        , ..., 0.        , 0.        ,\n",
       "        0.        ],\n",
       "       [0.90567829, 0.        , 0.        , ..., 0.        , 0.        ,\n",
       "        0.        ],\n",
       "       [0.90727676, 0.        , 0.        , ..., 0.        , 0.        ,\n",
       "        0.        ],\n",
       "       ...,\n",
       "       [0.87789557, 0.        , 0.        , ..., 0.        , 0.        ,\n",
       "        0.        ],\n",
       "       [0.83862787, 0.        , 0.        , ..., 0.        , 0.        ,\n",
       "        0.        ],\n",
       "       [0.81928803, 0.        , 0.        , ..., 0.        , 0.        ,\n",
       "        0.        ]])"
      ]
     },
     "execution_count": 628,
     "metadata": {},
     "output_type": "execute_result"
    }
   ],
   "source": [
    "train_feature_normalize.toarray()"
   ]
  },
  {
   "cell_type": "code",
   "execution_count": 629,
   "metadata": {},
   "outputs": [
    {
     "data": {
      "text/plain": [
       "<200x11216 sparse matrix of type '<class 'numpy.float64'>'\n",
       "\twith 7362 stored elements in Compressed Sparse Row format>"
      ]
     },
     "execution_count": 629,
     "metadata": {},
     "output_type": "execute_result"
    }
   ],
   "source": [
    "test_feature_normalize"
   ]
  },
  {
   "cell_type": "code",
   "execution_count": 630,
   "metadata": {},
   "outputs": [
    {
     "data": {
      "text/plain": [
       "(200, 11216)"
      ]
     },
     "execution_count": 630,
     "metadata": {},
     "output_type": "execute_result"
    }
   ],
   "source": [
    "test_feature_normalize.shape"
   ]
  },
  {
   "cell_type": "code",
   "execution_count": 631,
   "metadata": {},
   "outputs": [
    {
     "data": {
      "text/plain": [
       "array([[0.92216794, 0.        , 0.        , ..., 0.        , 0.        ,\n",
       "        0.        ],\n",
       "       [0.93727587, 0.        , 0.        , ..., 0.        , 0.        ,\n",
       "        0.        ],\n",
       "       [0.875     , 0.        , 0.        , ..., 0.        , 0.        ,\n",
       "        0.        ],\n",
       "       ...,\n",
       "       [0.95012124, 0.        , 0.        , ..., 0.        , 0.04130962,\n",
       "        0.04130962],\n",
       "       [0.91456614, 0.        , 0.        , ..., 0.        , 0.        ,\n",
       "        0.        ],\n",
       "       [0.91839966, 0.        , 0.        , ..., 0.        , 0.        ,\n",
       "        0.        ]])"
      ]
     },
     "execution_count": 631,
     "metadata": {},
     "output_type": "execute_result"
    }
   ],
   "source": [
    "test_feature_normalize.toarray()"
   ]
  },
  {
   "cell_type": "markdown",
   "metadata": {},
   "source": [
    "### LinearSVM algorithm"
   ]
  },
  {
   "cell_type": "code",
   "execution_count": 632,
   "metadata": {},
   "outputs": [],
   "source": [
    "from sklearn.svm import LinearSVC\n",
    "from yellowbrick.model_selection import CVScores\n",
    "from yellowbrick.classifier import ConfusionMatrix\n",
    "from sklearn.model_selection import cross_validate, cross_val_score\n",
    "from sklearn.metrics import (classification_report, make_scorer, \n",
    "                             confusion_matrix, accuracy_score, \n",
    "                             precision_score, recall_score, f1_score)\n"
   ]
  },
  {
   "cell_type": "code",
   "execution_count": 633,
   "metadata": {},
   "outputs": [],
   "source": [
    "model_SVC = LinearSVC(random_state=2020)"
   ]
  },
  {
   "cell_type": "code",
   "execution_count": 634,
   "metadata": {},
   "outputs": [
    {
     "data": {
      "text/plain": [
       "LinearSVC(random_state=2020)"
      ]
     },
     "execution_count": 634,
     "metadata": {},
     "output_type": "execute_result"
    }
   ],
   "source": [
    "model_SVC.fit(train_feature_normalize, train_label)"
   ]
  },
  {
   "cell_type": "code",
   "execution_count": 635,
   "metadata": {},
   "outputs": [
    {
     "name": "stdout",
     "output_type": "stream",
     "text": [
      "[0.8875     0.875      0.9        0.9        0.87421384]\n",
      "0.8873427672955975\n"
     ]
    }
   ],
   "source": [
    "c5_SVC = cross_val_score(model_SVC, train_feature_normalize, train_label, cv=5, scoring='accuracy')\n",
    "mc5_SVC = cross_val_score(model_SVC, train_feature_normalize, train_label, cv=5, scoring='accuracy').mean()\n",
    "print(c5_SVC)\n",
    "print(mc5_SVC)"
   ]
  },
  {
   "cell_type": "code",
   "execution_count": 636,
   "metadata": {},
   "outputs": [
    {
     "data": {
      "text/plain": [
       "{'fit_time': array([0.00697994, 0.00598764, 0.00698137, 0.00598693, 0.00593829]),\n",
       " 'score_time': array([0.00303674, 0.00299191, 0.00299168, 0.00299501, 0.00303769]),\n",
       " 'test_accuracy': array([0.8875    , 0.875     , 0.9       , 0.9       , 0.87421384]),\n",
       " 'test_precision': array([0.87951807, 0.84883721, 0.9       , 0.8902439 , 0.84883721]),\n",
       " 'test_recall': array([0.90123457, 0.9125    , 0.9       , 0.9125    , 0.9125    ]),\n",
       " 'test_f1_score': array([0.8902439 , 0.87951807, 0.9       , 0.90123457, 0.87951807])}"
      ]
     },
     "execution_count": 636,
     "metadata": {},
     "output_type": "execute_result"
    }
   ],
   "source": [
    "scoring = {'accuracy' : make_scorer(accuracy_score), \n",
    "           'precision' : make_scorer(precision_score),\n",
    "           'recall' : make_scorer(recall_score), \n",
    "           'f1_score' : make_scorer(f1_score)}\n",
    "\n",
    "c5_SVC_CV_score = cross_validate(model_SVC, train_feature_normalize, train_label, cv=5, scoring=(scoring))\n",
    "c5_SVC_CV_score"
   ]
  },
  {
   "cell_type": "code",
   "execution_count": 637,
   "metadata": {},
   "outputs": [
    {
     "data": {
      "text/html": [
       "<div>\n",
       "<style scoped>\n",
       "    .dataframe tbody tr th:only-of-type {\n",
       "        vertical-align: middle;\n",
       "    }\n",
       "\n",
       "    .dataframe tbody tr th {\n",
       "        vertical-align: top;\n",
       "    }\n",
       "\n",
       "    .dataframe thead th {\n",
       "        text-align: right;\n",
       "    }\n",
       "</style>\n",
       "<table border=\"1\" class=\"dataframe\">\n",
       "  <thead>\n",
       "    <tr style=\"text-align: right;\">\n",
       "      <th></th>\n",
       "      <th>fit_time</th>\n",
       "      <th>score_time</th>\n",
       "      <th>test_accuracy</th>\n",
       "      <th>test_precision</th>\n",
       "      <th>test_recall</th>\n",
       "      <th>test_f1_score</th>\n",
       "    </tr>\n",
       "  </thead>\n",
       "  <tbody>\n",
       "    <tr>\n",
       "      <th>0</th>\n",
       "      <td>0.006980</td>\n",
       "      <td>0.003037</td>\n",
       "      <td>0.887500</td>\n",
       "      <td>0.879518</td>\n",
       "      <td>0.901235</td>\n",
       "      <td>0.890244</td>\n",
       "    </tr>\n",
       "    <tr>\n",
       "      <th>1</th>\n",
       "      <td>0.005988</td>\n",
       "      <td>0.002992</td>\n",
       "      <td>0.875000</td>\n",
       "      <td>0.848837</td>\n",
       "      <td>0.912500</td>\n",
       "      <td>0.879518</td>\n",
       "    </tr>\n",
       "    <tr>\n",
       "      <th>2</th>\n",
       "      <td>0.006981</td>\n",
       "      <td>0.002992</td>\n",
       "      <td>0.900000</td>\n",
       "      <td>0.900000</td>\n",
       "      <td>0.900000</td>\n",
       "      <td>0.900000</td>\n",
       "    </tr>\n",
       "    <tr>\n",
       "      <th>3</th>\n",
       "      <td>0.005987</td>\n",
       "      <td>0.002995</td>\n",
       "      <td>0.900000</td>\n",
       "      <td>0.890244</td>\n",
       "      <td>0.912500</td>\n",
       "      <td>0.901235</td>\n",
       "    </tr>\n",
       "    <tr>\n",
       "      <th>4</th>\n",
       "      <td>0.005938</td>\n",
       "      <td>0.003038</td>\n",
       "      <td>0.874214</td>\n",
       "      <td>0.848837</td>\n",
       "      <td>0.912500</td>\n",
       "      <td>0.879518</td>\n",
       "    </tr>\n",
       "  </tbody>\n",
       "</table>\n",
       "</div>"
      ],
      "text/plain": [
       "   fit_time  score_time  test_accuracy  test_precision  test_recall  \\\n",
       "0  0.006980    0.003037       0.887500        0.879518     0.901235   \n",
       "1  0.005988    0.002992       0.875000        0.848837     0.912500   \n",
       "2  0.006981    0.002992       0.900000        0.900000     0.900000   \n",
       "3  0.005987    0.002995       0.900000        0.890244     0.912500   \n",
       "4  0.005938    0.003038       0.874214        0.848837     0.912500   \n",
       "\n",
       "   test_f1_score  \n",
       "0       0.890244  \n",
       "1       0.879518  \n",
       "2       0.900000  \n",
       "3       0.901235  \n",
       "4       0.879518  "
      ]
     },
     "execution_count": 637,
     "metadata": {},
     "output_type": "execute_result"
    }
   ],
   "source": [
    "c5_SVC_CV_score_table = pd.DataFrame(c5_SVC_CV_score)\n",
    "c5_SVC_CV_score_table"
   ]
  },
  {
   "cell_type": "code",
   "execution_count": 638,
   "metadata": {},
   "outputs": [
    {
     "data": {
      "text/plain": [
       "test_accuracy     0.887343\n",
       "test_precision    0.873487\n",
       "test_recall       0.907747\n",
       "test_f1_score     0.890103\n",
       "dtype: float64"
      ]
     },
     "execution_count": 638,
     "metadata": {},
     "output_type": "execute_result"
    }
   ],
   "source": [
    "c5_SVC_CV_score_board = c5_SVC_CV_score_table[['test_accuracy', \n",
    "                                               'test_precision', \n",
    "                                               'test_recall', \n",
    "                                               'test_f1_score']].mean()\n",
    "c5_SVC_CV_score_board"
   ]
  },
  {
   "cell_type": "code",
   "execution_count": 639,
   "metadata": {},
   "outputs": [
    {
     "data": {
      "image/png": "[encoded data removed]",
      "text/plain": [
       "<Figure size 576x396 with 1 Axes>"
      ]
     },
     "metadata": {},
     "output_type": "display_data"
    }
   ],
   "source": [
    "visualizer_c5_SVC = CVScores(model_SVC, cv=5, scoring='accuracy')\n",
    "visualizer_c5_SVC.fit(train_feature_normalize, train_label)\n",
    "visualizer_c5_SVC.show();"
   ]
  },
  {
   "cell_type": "code",
   "execution_count": 640,
   "metadata": {},
   "outputs": [
    {
     "name": "stdout",
     "output_type": "stream",
     "text": [
      "[0.925      0.85       0.9        0.9        0.925      0.9125\n",
      " 0.8625     0.925      0.925      0.83544304]\n",
      "0.8960443037974685\n"
     ]
    }
   ],
   "source": [
    "c10_SVC = cross_val_score(model_SVC, train_feature_normalize, train_label, cv=10, scoring='accuracy')\n",
    "mc10_SVC = cross_val_score(model_SVC, train_feature_normalize, train_label, cv=10, scoring='accuracy').mean()\n",
    "print(c10_SVC)\n",
    "print(mc10_SVC)"
   ]
  },
  {
   "cell_type": "code",
   "execution_count": 641,
   "metadata": {},
   "outputs": [
    {
     "data": {
      "text/plain": [
       "{'fit_time': array([0.00801945, 0.00896645, 0.00697255, 0.00701451, 0.00598598,\n",
       "        0.00598097, 0.00598359, 0.00698113, 0.0069809 , 0.00601768]),\n",
       " 'score_time': array([0.00395632, 0.00203729, 0.00295782, 0.00199723, 0.00299168,\n",
       "        0.00299239, 0.00298977, 0.00299239, 0.00199437, 0.00299215]),\n",
       " 'test_accuracy': array([0.925     , 0.85      , 0.9       , 0.9       , 0.925     ,\n",
       "        0.9125    , 0.8625    , 0.925     , 0.925     , 0.83544304]),\n",
       " 'test_precision': array([0.90697674, 0.86842105, 0.84782609, 0.9       , 0.9047619 ,\n",
       "        0.90243902, 0.87179487, 0.9047619 , 0.88636364, 0.81395349]),\n",
       " 'test_recall': array([0.95121951, 0.825     , 0.975     , 0.9       , 0.95      ,\n",
       "        0.925     , 0.85      , 0.95      , 0.975     , 0.875     ]),\n",
       " 'test_f1_score': array([0.92857143, 0.84615385, 0.90697674, 0.9       , 0.92682927,\n",
       "        0.91358025, 0.86075949, 0.92682927, 0.92857143, 0.84337349])}"
      ]
     },
     "execution_count": 641,
     "metadata": {},
     "output_type": "execute_result"
    }
   ],
   "source": [
    "scoring = {'accuracy' : make_scorer(accuracy_score), \n",
    "           'precision' : make_scorer(precision_score),\n",
    "           'recall' : make_scorer(recall_score), \n",
    "           'f1_score' : make_scorer(f1_score)}\n",
    "\n",
    "c10_SVC_CV_score = cross_validate(model_SVC, train_feature_normalize, train_label, cv=10, scoring=(scoring))\n",
    "c10_SVC_CV_score"
   ]
  },
  {
   "cell_type": "code",
   "execution_count": 642,
   "metadata": {},
   "outputs": [
    {
     "data": {
      "text/html": [
       "<div>\n",
       "<style scoped>\n",
       "    .dataframe tbody tr th:only-of-type {\n",
       "        vertical-align: middle;\n",
       "    }\n",
       "\n",
       "    .dataframe tbody tr th {\n",
       "        vertical-align: top;\n",
       "    }\n",
       "\n",
       "    .dataframe thead th {\n",
       "        text-align: right;\n",
       "    }\n",
       "</style>\n",
       "<table border=\"1\" class=\"dataframe\">\n",
       "  <thead>\n",
       "    <tr style=\"text-align: right;\">\n",
       "      <th></th>\n",
       "      <th>fit_time</th>\n",
       "      <th>score_time</th>\n",
       "      <th>test_accuracy</th>\n",
       "      <th>test_precision</th>\n",
       "      <th>test_recall</th>\n",
       "      <th>test_f1_score</th>\n",
       "    </tr>\n",
       "  </thead>\n",
       "  <tbody>\n",
       "    <tr>\n",
       "      <th>0</th>\n",
       "      <td>0.008019</td>\n",
       "      <td>0.003956</td>\n",
       "      <td>0.925000</td>\n",
       "      <td>0.906977</td>\n",
       "      <td>0.95122</td>\n",
       "      <td>0.928571</td>\n",
       "    </tr>\n",
       "    <tr>\n",
       "      <th>1</th>\n",
       "      <td>0.008966</td>\n",
       "      <td>0.002037</td>\n",
       "      <td>0.850000</td>\n",
       "      <td>0.868421</td>\n",
       "      <td>0.82500</td>\n",
       "      <td>0.846154</td>\n",
       "    </tr>\n",
       "    <tr>\n",
       "      <th>2</th>\n",
       "      <td>0.006973</td>\n",
       "      <td>0.002958</td>\n",
       "      <td>0.900000</td>\n",
       "      <td>0.847826</td>\n",
       "      <td>0.97500</td>\n",
       "      <td>0.906977</td>\n",
       "    </tr>\n",
       "    <tr>\n",
       "      <th>3</th>\n",
       "      <td>0.007015</td>\n",
       "      <td>0.001997</td>\n",
       "      <td>0.900000</td>\n",
       "      <td>0.900000</td>\n",
       "      <td>0.90000</td>\n",
       "      <td>0.900000</td>\n",
       "    </tr>\n",
       "    <tr>\n",
       "      <th>4</th>\n",
       "      <td>0.005986</td>\n",
       "      <td>0.002992</td>\n",
       "      <td>0.925000</td>\n",
       "      <td>0.904762</td>\n",
       "      <td>0.95000</td>\n",
       "      <td>0.926829</td>\n",
       "    </tr>\n",
       "    <tr>\n",
       "      <th>5</th>\n",
       "      <td>0.005981</td>\n",
       "      <td>0.002992</td>\n",
       "      <td>0.912500</td>\n",
       "      <td>0.902439</td>\n",
       "      <td>0.92500</td>\n",
       "      <td>0.913580</td>\n",
       "    </tr>\n",
       "    <tr>\n",
       "      <th>6</th>\n",
       "      <td>0.005984</td>\n",
       "      <td>0.002990</td>\n",
       "      <td>0.862500</td>\n",
       "      <td>0.871795</td>\n",
       "      <td>0.85000</td>\n",
       "      <td>0.860759</td>\n",
       "    </tr>\n",
       "    <tr>\n",
       "      <th>7</th>\n",
       "      <td>0.006981</td>\n",
       "      <td>0.002992</td>\n",
       "      <td>0.925000</td>\n",
       "      <td>0.904762</td>\n",
       "      <td>0.95000</td>\n",
       "      <td>0.926829</td>\n",
       "    </tr>\n",
       "    <tr>\n",
       "      <th>8</th>\n",
       "      <td>0.006981</td>\n",
       "      <td>0.001994</td>\n",
       "      <td>0.925000</td>\n",
       "      <td>0.886364</td>\n",
       "      <td>0.97500</td>\n",
       "      <td>0.928571</td>\n",
       "    </tr>\n",
       "    <tr>\n",
       "      <th>9</th>\n",
       "      <td>0.006018</td>\n",
       "      <td>0.002992</td>\n",
       "      <td>0.835443</td>\n",
       "      <td>0.813953</td>\n",
       "      <td>0.87500</td>\n",
       "      <td>0.843373</td>\n",
       "    </tr>\n",
       "  </tbody>\n",
       "</table>\n",
       "</div>"
      ],
      "text/plain": [
       "   fit_time  score_time  test_accuracy  test_precision  test_recall  \\\n",
       "0  0.008019    0.003956       0.925000        0.906977      0.95122   \n",
       "1  0.008966    0.002037       0.850000        0.868421      0.82500   \n",
       "2  0.006973    0.002958       0.900000        0.847826      0.97500   \n",
       "3  0.007015    0.001997       0.900000        0.900000      0.90000   \n",
       "4  0.005986    0.002992       0.925000        0.904762      0.95000   \n",
       "5  0.005981    0.002992       0.912500        0.902439      0.92500   \n",
       "6  0.005984    0.002990       0.862500        0.871795      0.85000   \n",
       "7  0.006981    0.002992       0.925000        0.904762      0.95000   \n",
       "8  0.006981    0.001994       0.925000        0.886364      0.97500   \n",
       "9  0.006018    0.002992       0.835443        0.813953      0.87500   \n",
       "\n",
       "   test_f1_score  \n",
       "0       0.928571  \n",
       "1       0.846154  \n",
       "2       0.906977  \n",
       "3       0.900000  \n",
       "4       0.926829  \n",
       "5       0.913580  \n",
       "6       0.860759  \n",
       "7       0.926829  \n",
       "8       0.928571  \n",
       "9       0.843373  "
      ]
     },
     "execution_count": 642,
     "metadata": {},
     "output_type": "execute_result"
    }
   ],
   "source": [
    "c10_SVC_CV_score_table = pd.DataFrame(c10_SVC_CV_score)\n",
    "c10_SVC_CV_score_table"
   ]
  },
  {
   "cell_type": "code",
   "execution_count": 643,
   "metadata": {},
   "outputs": [
    {
     "data": {
      "text/plain": [
       "test_accuracy     0.896044\n",
       "test_precision    0.880730\n",
       "test_recall       0.917622\n",
       "test_f1_score     0.898165\n",
       "dtype: float64"
      ]
     },
     "execution_count": 643,
     "metadata": {},
     "output_type": "execute_result"
    }
   ],
   "source": [
    "c10_SVC_CV_score_board = c10_SVC_CV_score_table[['test_accuracy', \n",
    "                                                 'test_precision', \n",
    "                                                 'test_recall', \n",
    "                                                 'test_f1_score']].mean()\n",
    "c10_SVC_CV_score_board"
   ]
  },
  {
   "cell_type": "code",
   "execution_count": 644,
   "metadata": {},
   "outputs": [
    {
     "data": {
      "image/png": "[encoded data removed]",
      "text/plain": [
       "<Figure size 576x396 with 1 Axes>"
      ]
     },
     "metadata": {},
     "output_type": "display_data"
    }
   ],
   "source": [
    "visualizer_c10_SVC = CVScores(model_SVC, cv=10, scoring='accuracy')\n",
    "\n",
    "visualizer_c10_SVC.fit(train_feature_normalize, train_label)\n",
    "visualizer_c10_SVC.show();"
   ]
  },
  {
   "cell_type": "code",
   "execution_count": 645,
   "metadata": {},
   "outputs": [],
   "source": [
    "predict_SVC = model_SVC.predict(test_feature_normalize)"
   ]
  },
  {
   "cell_type": "code",
   "execution_count": 646,
   "metadata": {},
   "outputs": [
    {
     "name": "stdout",
     "output_type": "stream",
     "text": [
      "              precision    recall  f1-score   support\n",
      "\n",
      "           0     0.8455    0.9118    0.8774       102\n",
      "           1     0.9000    0.8265    0.8617        98\n",
      "\n",
      "    accuracy                         0.8700       200\n",
      "   macro avg     0.8727    0.8691    0.8695       200\n",
      "weighted avg     0.8722    0.8700    0.8697       200\n",
      "\n"
     ]
    }
   ],
   "source": [
    "acc_SVC = classification_report(test_label, predict_SVC, digits=4)\n",
    "print(acc_SVC)"
   ]
  },
  {
   "cell_type": "code",
   "execution_count": 647,
   "metadata": {},
   "outputs": [
    {
     "name": "stdout",
     "output_type": "stream",
     "text": [
      "[[93  9]\n",
      " [17 81]]\n"
     ]
    }
   ],
   "source": [
    "con_mat_SVC = confusion_matrix(test_label, predict_SVC)\n",
    "print(con_mat_SVC)"
   ]
  },
  {
   "cell_type": "code",
   "execution_count": 677,
   "metadata": {},
   "outputs": [
    {
     "name": "stdout",
     "output_type": "stream",
     "text": [
      "The accuracy of SVC is 0.87%\n"
     ]
    }
   ],
   "source": [
    "ls1=0; ls2=0\n",
    "for i in range(0,len(con_mat_SVC)):\n",
    "    for j in range(0,len(con_mat_SVC)):\n",
    "        ls1=ls1+con_mat_SVC[i,j]\n",
    "        if(i==j):\n",
    "            ls2=ls2+con_mat_SVC[i,j]\n",
    "accuracy_SVC = ls2/ls1\n",
    "print('The accuracy of SVC is {}%'.format(accuracy_SVC))"
   ]
  },
  {
   "cell_type": "code",
   "execution_count": 648,
   "metadata": {},
   "outputs": [
    {
     "name": "stderr",
     "output_type": "stream",
     "text": [
      "c:\\users\\eak\\appdata\\local\\programs\\python\\python38\\lib\\site-packages\\sklearn\\base.py:209: FutureWarning: From version 0.24, get_params will raise an AttributeError if a parameter cannot be retrieved as an instance attribute. Previously it would return None.\n",
      "  warnings.warn('From version 0.24, get_params will raise an '\n"
     ]
    },
    {
     "data": {
      "image/png": "[encoded data removed]",
      "text/plain": [
       "<Figure size 576x396 with 1 Axes>"
      ]
     },
     "metadata": {},
     "output_type": "display_data"
    }
   ],
   "source": [
    "svc_cm = ConfusionMatrix(model_SVC)\n",
    "svc_cm.fit(train_feature_normalize, train_label)\n",
    "svc_cm.score(test_feature_normalize, test_label)\n",
    "svc_cm.show();"
   ]
  },
  {
   "cell_type": "code",
   "execution_count": null,
   "metadata": {},
   "outputs": [],
   "source": []
  },
  {
   "cell_type": "markdown",
   "metadata": {},
   "source": [
    "### Random Forest algorithm"
   ]
  },
  {
   "cell_type": "code",
   "execution_count": 649,
   "metadata": {},
   "outputs": [],
   "source": [
    "from sklearn.ensemble import RandomForestClassifier"
   ]
  },
  {
   "cell_type": "code",
   "execution_count": 650,
   "metadata": {},
   "outputs": [],
   "source": [
    "model_RDF = RandomForestClassifier(n_estimators=100, random_state=2020)"
   ]
  },
  {
   "cell_type": "code",
   "execution_count": 651,
   "metadata": {},
   "outputs": [
    {
     "data": {
      "text/plain": [
       "RandomForestClassifier(random_state=2020)"
      ]
     },
     "execution_count": 651,
     "metadata": {},
     "output_type": "execute_result"
    }
   ],
   "source": [
    "model_RDF.fit(train_feature_normalize, train_label)"
   ]
  },
  {
   "cell_type": "code",
   "execution_count": 652,
   "metadata": {},
   "outputs": [
    {
     "name": "stdout",
     "output_type": "stream",
     "text": [
      "[0.88125    0.875      0.8625     0.875      0.85534591]\n",
      "0.8698191823899372\n"
     ]
    }
   ],
   "source": [
    "c5_RDF = cross_val_score(model_RDF, train_feature_normalize, train_label, cv=5, scoring='accuracy')\n",
    "mc5_RDF = cross_val_score(model_RDF, train_feature_normalize, train_label, cv=5, scoring='accuracy').mean()\n",
    "print(c5_RDF)\n",
    "print(mc5_RDF)"
   ]
  },
  {
   "cell_type": "code",
   "execution_count": 653,
   "metadata": {},
   "outputs": [
    {
     "data": {
      "text/plain": [
       "{'fit_time': array([0.58700895, 0.55148053, 0.56748152, 0.58845448, 0.59348774]),\n",
       " 'score_time': array([0.01695585, 0.01800132, 0.01695514, 0.01894999, 0.01804996]),\n",
       " 'test_accuracy': array([0.88125   , 0.875     , 0.8625    , 0.875     , 0.85534591]),\n",
       " 'test_precision': array([0.87804878, 0.83333333, 0.8452381 , 0.85714286, 0.83529412]),\n",
       " 'test_recall': array([0.88888889, 0.9375    , 0.8875    , 0.9       , 0.8875    ]),\n",
       " 'test_f1_score': array([0.88343558, 0.88235294, 0.86585366, 0.87804878, 0.86060606])}"
      ]
     },
     "execution_count": 653,
     "metadata": {},
     "output_type": "execute_result"
    }
   ],
   "source": [
    "scoring = {'accuracy' : make_scorer(accuracy_score), \n",
    "           'precision' : make_scorer(precision_score),\n",
    "           'recall' : make_scorer(recall_score), \n",
    "           'f1_score' : make_scorer(f1_score)}\n",
    "\n",
    "c5_RDF_CV_score = cross_validate(model_RDF, train_feature_normalize, train_label, cv=5, scoring=(scoring))\n",
    "c5_RDF_CV_score"
   ]
  },
  {
   "cell_type": "code",
   "execution_count": 654,
   "metadata": {},
   "outputs": [
    {
     "data": {
      "text/html": [
       "<div>\n",
       "<style scoped>\n",
       "    .dataframe tbody tr th:only-of-type {\n",
       "        vertical-align: middle;\n",
       "    }\n",
       "\n",
       "    .dataframe tbody tr th {\n",
       "        vertical-align: top;\n",
       "    }\n",
       "\n",
       "    .dataframe thead th {\n",
       "        text-align: right;\n",
       "    }\n",
       "</style>\n",
       "<table border=\"1\" class=\"dataframe\">\n",
       "  <thead>\n",
       "    <tr style=\"text-align: right;\">\n",
       "      <th></th>\n",
       "      <th>fit_time</th>\n",
       "      <th>score_time</th>\n",
       "      <th>test_accuracy</th>\n",
       "      <th>test_precision</th>\n",
       "      <th>test_recall</th>\n",
       "      <th>test_f1_score</th>\n",
       "    </tr>\n",
       "  </thead>\n",
       "  <tbody>\n",
       "    <tr>\n",
       "      <th>0</th>\n",
       "      <td>0.587009</td>\n",
       "      <td>0.016956</td>\n",
       "      <td>0.881250</td>\n",
       "      <td>0.878049</td>\n",
       "      <td>0.888889</td>\n",
       "      <td>0.883436</td>\n",
       "    </tr>\n",
       "    <tr>\n",
       "      <th>1</th>\n",
       "      <td>0.551481</td>\n",
       "      <td>0.018001</td>\n",
       "      <td>0.875000</td>\n",
       "      <td>0.833333</td>\n",
       "      <td>0.937500</td>\n",
       "      <td>0.882353</td>\n",
       "    </tr>\n",
       "    <tr>\n",
       "      <th>2</th>\n",
       "      <td>0.567482</td>\n",
       "      <td>0.016955</td>\n",
       "      <td>0.862500</td>\n",
       "      <td>0.845238</td>\n",
       "      <td>0.887500</td>\n",
       "      <td>0.865854</td>\n",
       "    </tr>\n",
       "    <tr>\n",
       "      <th>3</th>\n",
       "      <td>0.588454</td>\n",
       "      <td>0.018950</td>\n",
       "      <td>0.875000</td>\n",
       "      <td>0.857143</td>\n",
       "      <td>0.900000</td>\n",
       "      <td>0.878049</td>\n",
       "    </tr>\n",
       "    <tr>\n",
       "      <th>4</th>\n",
       "      <td>0.593488</td>\n",
       "      <td>0.018050</td>\n",
       "      <td>0.855346</td>\n",
       "      <td>0.835294</td>\n",
       "      <td>0.887500</td>\n",
       "      <td>0.860606</td>\n",
       "    </tr>\n",
       "  </tbody>\n",
       "</table>\n",
       "</div>"
      ],
      "text/plain": [
       "   fit_time  score_time  test_accuracy  test_precision  test_recall  \\\n",
       "0  0.587009    0.016956       0.881250        0.878049     0.888889   \n",
       "1  0.551481    0.018001       0.875000        0.833333     0.937500   \n",
       "2  0.567482    0.016955       0.862500        0.845238     0.887500   \n",
       "3  0.588454    0.018950       0.875000        0.857143     0.900000   \n",
       "4  0.593488    0.018050       0.855346        0.835294     0.887500   \n",
       "\n",
       "   test_f1_score  \n",
       "0       0.883436  \n",
       "1       0.882353  \n",
       "2       0.865854  \n",
       "3       0.878049  \n",
       "4       0.860606  "
      ]
     },
     "execution_count": 654,
     "metadata": {},
     "output_type": "execute_result"
    }
   ],
   "source": [
    "c5_RDF_CV_score_table = pd.DataFrame(c5_RDF_CV_score)\n",
    "c5_RDF_CV_score_table"
   ]
  },
  {
   "cell_type": "code",
   "execution_count": 655,
   "metadata": {},
   "outputs": [
    {
     "data": {
      "text/plain": [
       "test_accuracy     0.869819\n",
       "test_precision    0.849811\n",
       "test_recall       0.900278\n",
       "test_f1_score     0.874059\n",
       "dtype: float64"
      ]
     },
     "execution_count": 655,
     "metadata": {},
     "output_type": "execute_result"
    }
   ],
   "source": [
    "c5_RDF_CV_score_board = c5_RDF_CV_score_table[['test_accuracy', \n",
    "                                               'test_precision', \n",
    "                                               'test_recall', \n",
    "                                               'test_f1_score']].mean()\n",
    "c5_RDF_CV_score_board"
   ]
  },
  {
   "cell_type": "code",
   "execution_count": 656,
   "metadata": {},
   "outputs": [
    {
     "data": {
      "image/png": "[encoded data removed]",
      "text/plain": [
       "<Figure size 576x396 with 1 Axes>"
      ]
     },
     "metadata": {},
     "output_type": "display_data"
    },
    {
     "data": {
      "text/plain": [
       "<AxesSubplot:title={'center':'Cross Validation Scores for RandomForestClassifier'}, xlabel='Training Instances', ylabel='Score'>"
      ]
     },
     "execution_count": 656,
     "metadata": {},
     "output_type": "execute_result"
    }
   ],
   "source": [
    "visualizer_c5_RDF = CVScores(model_RDF, cv=5, scoring='accuracy')\n",
    "\n",
    "visualizer_c5_RDF.fit(train_feature_normalize, train_label)\n",
    "visualizer_c5_RDF.show() "
   ]
  },
  {
   "cell_type": "code",
   "execution_count": 657,
   "metadata": {},
   "outputs": [
    {
     "name": "stdout",
     "output_type": "stream",
     "text": [
      "[0.9        0.85       0.8375     0.8625     0.85       0.8875\n",
      " 0.8625     0.9125     0.9375     0.75949367]\n",
      "0.8659493670886077\n"
     ]
    }
   ],
   "source": [
    "c10_RDF = cross_val_score(model_RDF, train_feature_normalize, train_label, cv=10, scoring='accuracy')\n",
    "mc10_RDF = cross_val_score(model_RDF, train_feature_normalize, train_label, cv=10, scoring='accuracy').mean()\n",
    "\n",
    "print(c10_RDF)\n",
    "print(mc10_RDF)"
   ]
  },
  {
   "cell_type": "code",
   "execution_count": 658,
   "metadata": {},
   "outputs": [
    {
     "data": {
      "text/plain": [
       "{'fit_time': array([0.6480391 , 0.64663839, 0.64242339, 0.64213204, 0.65266037,\n",
       "        0.63430333, 0.6316731 , 0.63359714, 0.60774636, 0.61384678]),\n",
       " 'score_time': array([0.01496792, 0.01696062, 0.01595736, 0.01591301, 0.01496053,\n",
       "        0.01405311, 0.01396275, 0.01400471, 0.01517749, 0.0150454 ]),\n",
       " 'test_accuracy': array([0.9       , 0.85      , 0.8375    , 0.8625    , 0.85      ,\n",
       "        0.8875    , 0.8625    , 0.9125    , 0.9375    , 0.75949367]),\n",
       " 'test_precision': array([0.90243902, 0.85      , 0.7755102 , 0.8372093 , 0.83333333,\n",
       "        0.87804878, 0.8372093 , 0.90243902, 0.88888889, 0.75609756]),\n",
       " 'test_recall': array([0.90243902, 0.85      , 0.95      , 0.9       , 0.875     ,\n",
       "        0.9       , 0.9       , 0.925     , 1.        , 0.775     ]),\n",
       " 'test_f1_score': array([0.90243902, 0.85      , 0.85393258, 0.86746988, 0.85365854,\n",
       "        0.88888889, 0.86746988, 0.91358025, 0.94117647, 0.7654321 ])}"
      ]
     },
     "execution_count": 658,
     "metadata": {},
     "output_type": "execute_result"
    }
   ],
   "source": [
    "scoring = {'accuracy' : make_scorer(accuracy_score), \n",
    "           'precision' : make_scorer(precision_score),\n",
    "           'recall' : make_scorer(recall_score), \n",
    "           'f1_score' : make_scorer(f1_score)}\n",
    "\n",
    "c10_RDF_CV_score = cross_validate(model_RDF, train_feature_normalize, train_label, cv=10, scoring=(scoring))\n",
    "c10_RDF_CV_score"
   ]
  },
  {
   "cell_type": "code",
   "execution_count": 659,
   "metadata": {},
   "outputs": [
    {
     "data": {
      "text/html": [
       "<div>\n",
       "<style scoped>\n",
       "    .dataframe tbody tr th:only-of-type {\n",
       "        vertical-align: middle;\n",
       "    }\n",
       "\n",
       "    .dataframe tbody tr th {\n",
       "        vertical-align: top;\n",
       "    }\n",
       "\n",
       "    .dataframe thead th {\n",
       "        text-align: right;\n",
       "    }\n",
       "</style>\n",
       "<table border=\"1\" class=\"dataframe\">\n",
       "  <thead>\n",
       "    <tr style=\"text-align: right;\">\n",
       "      <th></th>\n",
       "      <th>fit_time</th>\n",
       "      <th>score_time</th>\n",
       "      <th>test_accuracy</th>\n",
       "      <th>test_precision</th>\n",
       "      <th>test_recall</th>\n",
       "      <th>test_f1_score</th>\n",
       "    </tr>\n",
       "  </thead>\n",
       "  <tbody>\n",
       "    <tr>\n",
       "      <th>0</th>\n",
       "      <td>0.648039</td>\n",
       "      <td>0.014968</td>\n",
       "      <td>0.900000</td>\n",
       "      <td>0.902439</td>\n",
       "      <td>0.902439</td>\n",
       "      <td>0.902439</td>\n",
       "    </tr>\n",
       "    <tr>\n",
       "      <th>1</th>\n",
       "      <td>0.646638</td>\n",
       "      <td>0.016961</td>\n",
       "      <td>0.850000</td>\n",
       "      <td>0.850000</td>\n",
       "      <td>0.850000</td>\n",
       "      <td>0.850000</td>\n",
       "    </tr>\n",
       "    <tr>\n",
       "      <th>2</th>\n",
       "      <td>0.642423</td>\n",
       "      <td>0.015957</td>\n",
       "      <td>0.837500</td>\n",
       "      <td>0.775510</td>\n",
       "      <td>0.950000</td>\n",
       "      <td>0.853933</td>\n",
       "    </tr>\n",
       "    <tr>\n",
       "      <th>3</th>\n",
       "      <td>0.642132</td>\n",
       "      <td>0.015913</td>\n",
       "      <td>0.862500</td>\n",
       "      <td>0.837209</td>\n",
       "      <td>0.900000</td>\n",
       "      <td>0.867470</td>\n",
       "    </tr>\n",
       "    <tr>\n",
       "      <th>4</th>\n",
       "      <td>0.652660</td>\n",
       "      <td>0.014961</td>\n",
       "      <td>0.850000</td>\n",
       "      <td>0.833333</td>\n",
       "      <td>0.875000</td>\n",
       "      <td>0.853659</td>\n",
       "    </tr>\n",
       "    <tr>\n",
       "      <th>5</th>\n",
       "      <td>0.634303</td>\n",
       "      <td>0.014053</td>\n",
       "      <td>0.887500</td>\n",
       "      <td>0.878049</td>\n",
       "      <td>0.900000</td>\n",
       "      <td>0.888889</td>\n",
       "    </tr>\n",
       "    <tr>\n",
       "      <th>6</th>\n",
       "      <td>0.631673</td>\n",
       "      <td>0.013963</td>\n",
       "      <td>0.862500</td>\n",
       "      <td>0.837209</td>\n",
       "      <td>0.900000</td>\n",
       "      <td>0.867470</td>\n",
       "    </tr>\n",
       "    <tr>\n",
       "      <th>7</th>\n",
       "      <td>0.633597</td>\n",
       "      <td>0.014005</td>\n",
       "      <td>0.912500</td>\n",
       "      <td>0.902439</td>\n",
       "      <td>0.925000</td>\n",
       "      <td>0.913580</td>\n",
       "    </tr>\n",
       "    <tr>\n",
       "      <th>8</th>\n",
       "      <td>0.607746</td>\n",
       "      <td>0.015177</td>\n",
       "      <td>0.937500</td>\n",
       "      <td>0.888889</td>\n",
       "      <td>1.000000</td>\n",
       "      <td>0.941176</td>\n",
       "    </tr>\n",
       "    <tr>\n",
       "      <th>9</th>\n",
       "      <td>0.613847</td>\n",
       "      <td>0.015045</td>\n",
       "      <td>0.759494</td>\n",
       "      <td>0.756098</td>\n",
       "      <td>0.775000</td>\n",
       "      <td>0.765432</td>\n",
       "    </tr>\n",
       "  </tbody>\n",
       "</table>\n",
       "</div>"
      ],
      "text/plain": [
       "   fit_time  score_time  test_accuracy  test_precision  test_recall  \\\n",
       "0  0.648039    0.014968       0.900000        0.902439     0.902439   \n",
       "1  0.646638    0.016961       0.850000        0.850000     0.850000   \n",
       "2  0.642423    0.015957       0.837500        0.775510     0.950000   \n",
       "3  0.642132    0.015913       0.862500        0.837209     0.900000   \n",
       "4  0.652660    0.014961       0.850000        0.833333     0.875000   \n",
       "5  0.634303    0.014053       0.887500        0.878049     0.900000   \n",
       "6  0.631673    0.013963       0.862500        0.837209     0.900000   \n",
       "7  0.633597    0.014005       0.912500        0.902439     0.925000   \n",
       "8  0.607746    0.015177       0.937500        0.888889     1.000000   \n",
       "9  0.613847    0.015045       0.759494        0.756098     0.775000   \n",
       "\n",
       "   test_f1_score  \n",
       "0       0.902439  \n",
       "1       0.850000  \n",
       "2       0.853933  \n",
       "3       0.867470  \n",
       "4       0.853659  \n",
       "5       0.888889  \n",
       "6       0.867470  \n",
       "7       0.913580  \n",
       "8       0.941176  \n",
       "9       0.765432  "
      ]
     },
     "execution_count": 659,
     "metadata": {},
     "output_type": "execute_result"
    }
   ],
   "source": [
    "c10_RDF_CV_score_table = pd.DataFrame(c10_RDF_CV_score)\n",
    "c10_RDF_CV_score_table"
   ]
  },
  {
   "cell_type": "code",
   "execution_count": 660,
   "metadata": {},
   "outputs": [
    {
     "data": {
      "text/plain": [
       "test_accuracy     0.865949\n",
       "test_precision    0.846118\n",
       "test_recall       0.897744\n",
       "test_f1_score     0.870405\n",
       "dtype: float64"
      ]
     },
     "execution_count": 660,
     "metadata": {},
     "output_type": "execute_result"
    }
   ],
   "source": [
    "c10_RDF_CV_score_board = c10_RDF_CV_score_table[['test_accuracy', \n",
    "                                               'test_precision', \n",
    "                                               'test_recall', \n",
    "                                               'test_f1_score']].mean()\n",
    "c10_RDF_CV_score_board"
   ]
  },
  {
   "cell_type": "code",
   "execution_count": 661,
   "metadata": {},
   "outputs": [
    {
     "data": {
      "image/png": "[encoded data removed]",
      "text/plain": [
       "<Figure size 576x396 with 1 Axes>"
      ]
     },
     "metadata": {},
     "output_type": "display_data"
    },
    {
     "data": {
      "text/plain": [
       "<AxesSubplot:title={'center':'Cross Validation Scores for RandomForestClassifier'}, xlabel='Training Instances', ylabel='Score'>"
      ]
     },
     "execution_count": 661,
     "metadata": {},
     "output_type": "execute_result"
    }
   ],
   "source": [
    "visualizer_c10_RDF = CVScores(model_RDF, cv=10, scoring='accuracy')\n",
    "\n",
    "visualizer_c10_RDF.fit(train_feature_normalize, train_label)\n",
    "visualizer_c10_RDF.show()"
   ]
  },
  {
   "cell_type": "code",
   "execution_count": 662,
   "metadata": {},
   "outputs": [],
   "source": [
    "predict_RDF = model_RDF.predict(test_feature_normalize)"
   ]
  },
  {
   "cell_type": "code",
   "execution_count": 663,
   "metadata": {},
   "outputs": [
    {
     "name": "stdout",
     "output_type": "stream",
     "text": [
      "              precision    recall  f1-score   support\n",
      "\n",
      "           0     0.8932    0.9020    0.8976       102\n",
      "           1     0.8969    0.8878    0.8923        98\n",
      "\n",
      "    accuracy                         0.8950       200\n",
      "   macro avg     0.8951    0.8949    0.8949       200\n",
      "weighted avg     0.8950    0.8950    0.8950       200\n",
      "\n"
     ]
    }
   ],
   "source": [
    "acc_RDF = classification_report(test_label, predict_RDF, digits=4)\n",
    "print(acc_RDF)"
   ]
  },
  {
   "cell_type": "code",
   "execution_count": 664,
   "metadata": {},
   "outputs": [
    {
     "name": "stdout",
     "output_type": "stream",
     "text": [
      "[[92 10]\n",
      " [11 87]]\n"
     ]
    }
   ],
   "source": [
    "con_mat_RDF = confusion_matrix(test_label, predict_RDF)\n",
    "print(con_mat_RDF)"
   ]
  },
  {
   "cell_type": "code",
   "execution_count": 678,
   "metadata": {},
   "outputs": [
    {
     "name": "stdout",
     "output_type": "stream",
     "text": [
      "The accuracy of RDF is 0.87%\n"
     ]
    }
   ],
   "source": [
    "lm1=0; lm2=0\n",
    "for i in range(0,len(con_mat_RDF)):\n",
    "    for j in range(0,len(con_mat_RDF)):\n",
    "        lm1=lm1+con_mat_RDF[i,j]\n",
    "        if(i==j):\n",
    "            lm2=lm2+con_mat_RDF[i,j]\n",
    "accuracy_RDF = ls2/ls1\n",
    "print('The accuracy of RDF is {}%'.format(accuracy_RDF))"
   ]
  },
  {
   "cell_type": "code",
   "execution_count": 666,
   "metadata": {},
   "outputs": [
    {
     "name": "stderr",
     "output_type": "stream",
     "text": [
      "c:\\users\\eak\\appdata\\local\\programs\\python\\python38\\lib\\site-packages\\sklearn\\base.py:209: FutureWarning: From version 0.24, get_params will raise an AttributeError if a parameter cannot be retrieved as an instance attribute. Previously it would return None.\n",
      "  warnings.warn('From version 0.24, get_params will raise an '\n"
     ]
    },
    {
     "data": {
      "image/png": "[encoded data removed]",
      "text/plain": [
       "<Figure size 576x396 with 1 Axes>"
      ]
     },
     "metadata": {},
     "output_type": "display_data"
    },
    {
     "data": {
      "text/plain": [
       "<AxesSubplot:title={'center':'RandomForestClassifier Confusion Matrix'}, xlabel='Predicted Class', ylabel='True Class'>"
      ]
     },
     "execution_count": 666,
     "metadata": {},
     "output_type": "execute_result"
    }
   ],
   "source": [
    "rd_cm = ConfusionMatrix(model_RDF)\n",
    "\n",
    "rd_cm.fit(train_feature_normalize, train_label)\n",
    "rd_cm.score(test_feature_normalize, test_label)\n",
    "\n",
    "rd_cm.show()"
   ]
  },
  {
   "cell_type": "code",
   "execution_count": 667,
   "metadata": {},
   "outputs": [
    {
     "data": {
      "text/html": [
       "<div>\n",
       "<style scoped>\n",
       "    .dataframe tbody tr th:only-of-type {\n",
       "        vertical-align: middle;\n",
       "    }\n",
       "\n",
       "    .dataframe tbody tr th {\n",
       "        vertical-align: top;\n",
       "    }\n",
       "\n",
       "    .dataframe thead th {\n",
       "        text-align: right;\n",
       "    }\n",
       "</style>\n",
       "<table border=\"1\" class=\"dataframe\">\n",
       "  <thead>\n",
       "    <tr style=\"text-align: right;\">\n",
       "      <th></th>\n",
       "      <th>Text</th>\n",
       "      <th>Lebel</th>\n",
       "      <th>Label_Predict</th>\n",
       "    </tr>\n",
       "  </thead>\n",
       "  <tbody>\n",
       "    <tr>\n",
       "      <th>405</th>\n",
       "      <td>A ban on internal combustion engines is expect...</td>\n",
       "      <td>0</td>\n",
       "      <td>0</td>\n",
       "    </tr>\n",
       "    <tr>\n",
       "      <th>292</th>\n",
       "      <td>Behaviors help you differentiate yourself as a...</td>\n",
       "      <td>1</td>\n",
       "      <td>1</td>\n",
       "    </tr>\n",
       "    <tr>\n",
       "      <th>746</th>\n",
       "      <td>the victories may come to a screeching halt.</td>\n",
       "      <td>1</td>\n",
       "      <td>1</td>\n",
       "    </tr>\n",
       "    <tr>\n",
       "      <th>838</th>\n",
       "      <td>and core resources.</td>\n",
       "      <td>1</td>\n",
       "      <td>1</td>\n",
       "    </tr>\n",
       "    <tr>\n",
       "      <th>495</th>\n",
       "      <td>The current study tested the effectiveness of ...</td>\n",
       "      <td>1</td>\n",
       "      <td>1</td>\n",
       "    </tr>\n",
       "    <tr>\n",
       "      <th>...</th>\n",
       "      <td>...</td>\n",
       "      <td>...</td>\n",
       "      <td>...</td>\n",
       "    </tr>\n",
       "    <tr>\n",
       "      <th>407</th>\n",
       "      <td>Increasing prevalence of chronic disease such ...</td>\n",
       "      <td>0</td>\n",
       "      <td>0</td>\n",
       "    </tr>\n",
       "    <tr>\n",
       "      <th>429</th>\n",
       "      <td>China is different.</td>\n",
       "      <td>1</td>\n",
       "      <td>1</td>\n",
       "    </tr>\n",
       "    <tr>\n",
       "      <th>193</th>\n",
       "      <td>Turkey has long advocated a secure zone for di...</td>\n",
       "      <td>0</td>\n",
       "      <td>1</td>\n",
       "    </tr>\n",
       "    <tr>\n",
       "      <th>725</th>\n",
       "      <td>which states that Round-trip efficiency... is ...</td>\n",
       "      <td>1</td>\n",
       "      <td>1</td>\n",
       "    </tr>\n",
       "    <tr>\n",
       "      <th>297</th>\n",
       "      <td>Connected technologies could allow policyholde...</td>\n",
       "      <td>0</td>\n",
       "      <td>0</td>\n",
       "    </tr>\n",
       "  </tbody>\n",
       "</table>\n",
       "<p>200 rows × 3 columns</p>\n",
       "</div>"
      ],
      "text/plain": [
       "                                                  Text  Lebel  Label_Predict\n",
       "405  A ban on internal combustion engines is expect...      0              0\n",
       "292  Behaviors help you differentiate yourself as a...      1              1\n",
       "746       the victories may come to a screeching halt.      1              1\n",
       "838                                and core resources.      1              1\n",
       "495  The current study tested the effectiveness of ...      1              1\n",
       "..                                                 ...    ...            ...\n",
       "407  Increasing prevalence of chronic disease such ...      0              0\n",
       "429                                China is different.      1              1\n",
       "193  Turkey has long advocated a secure zone for di...      0              1\n",
       "725  which states that Round-trip efficiency... is ...      1              1\n",
       "297  Connected technologies could allow policyholde...      0              0\n",
       "\n",
       "[200 rows x 3 columns]"
      ]
     },
     "execution_count": 667,
     "metadata": {},
     "output_type": "execute_result"
    }
   ],
   "source": [
    "prob_result_table = pd.DataFrame()\n",
    "prob_result_table['Text'] = test_data\n",
    "prob_result_table['Lebel'] = test_label\n",
    "prob_result_table['Label_Predict'] = predict_SVC\n",
    "prob_result_table"
   ]
  },
  {
   "cell_type": "code",
   "execution_count": 679,
   "metadata": {},
   "outputs": [
    {
     "name": "stdout",
     "output_type": "stream",
     "text": [
      "The accuracy of SVM is 0.895%\n",
      "The accuracy of RDF is 0.87%\n"
     ]
    }
   ],
   "source": [
    "print('The accuracy of SVM is {}%'.format(accuracy_SVM))\n",
    "print('The accuracy of RDF is {}%'.format(accuracy_RDF))"
   ]
  },
  {
   "cell_type": "markdown",
   "metadata": {},
   "source": [
    "สรุปจากผลจากการทดสอบความถูกต้อง(accuracy) ของ  SVM algorithm และ Random Forest algorithm คือ 0.89% และ 0.87% ตามลำดับ \n",
    "ดังนั้น ผู้ใช้เลือกใช้ SVM algorithm จะช่วยเพิ่มความถูกต้องในการทำนายได้มากยิ่งขึ้น"
   ]
  }
 ],
 "metadata": {
  "kernelspec": {
   "display_name": "Python 3",
   "language": "python",
   "name": "python3"
  },
  "language_info": {
   "codemirror_mode": {
    "name": "ipython",
    "version": 3
   },
   "file_extension": ".py",
   "mimetype": "text/x-python",
   "name": "python",
   "nbconvert_exporter": "python",
   "pygments_lexer": "ipython3",
   "version": "3.8.3"
  }
 },
 "nbformat": 4,
 "nbformat_minor": 4
}
